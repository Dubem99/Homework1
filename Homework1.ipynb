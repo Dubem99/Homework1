{
 "cells": [
  {
   "cell_type": "code",
   "execution_count": 1273,
   "id": "dbea793d-9363-421e-9fd7-10171d81b3aa",
   "metadata": {},
   "outputs": [],
   "source": [
    "import numpy as np\n",
    "import pandas as pd\n",
    "import matplotlib.pyplot as plt\n",
    "from sklearn.model_selection import train_test_split\n",
    "from sklearn.preprocessing import MinMaxScaler, StandardScaler\n"
   ]
  },
  {
   "cell_type": "code",
   "execution_count": 1274,
   "id": "b2e1e865-f8a8-488d-bb3b-560be2ae863d",
   "metadata": {},
   "outputs": [],
   "source": [
    "def binary_map(x):\n",
    "    return x.map({'yes': 1, 'no': 0})"
   ]
  },
  {
   "cell_type": "code",
   "execution_count": 1275,
   "id": "68007baf-e2eb-499e-b9a6-9d748d62942e",
   "metadata": {},
   "outputs": [],
   "source": [
    "iterations = 1500\n",
    "alpha = 0.07"
   ]
  },
  {
   "cell_type": "code",
   "execution_count": 1276,
   "id": "b7ae36df-dfbe-42a5-a23c-00f29dd0da65",
   "metadata": {},
   "outputs": [],
   "source": [
    "# This functions reads the full housing data set provided\n",
    "df = pd.read_csv(r'Housing.csv')"
   ]
  },
  {
   "cell_type": "code",
   "execution_count": 1277,
   "id": "66eaa907-6ccd-440c-8456-823a1aa25fd1",
   "metadata": {},
   "outputs": [],
   "source": [
    "#variable list\n",
    "Variablelist = ['mainroad', 'guestroom', 'basement', 'hotwaterheating', 'airconditioning',\n",
    "           'prefarea']"
   ]
  },
  {
   "cell_type": "code",
   "execution_count": 1278,
   "id": "6ed72180-68a0-4f9a-a62b-b7579f7085ef",
   "metadata": {},
   "outputs": [],
   "source": [
    "#Binary map needed for variable list \n",
    "df[Variablelist] = df[Variablelist].apply(binary_map)\n"
   ]
  },
  {
   "cell_type": "code",
   "execution_count": 1279,
   "id": "c4fba457-b3a4-4381-b8e7-b6e95bacde40",
   "metadata": {},
   "outputs": [],
   "source": [
    "# Splits the data into training and test sets\n",
    "np.random.seed(0)\n",
    "df_train, df_test = train_test_split(df, train_size=0.7, test_size=0.3,\n",
    "                                     random_state=np.random)\n"
   ]
  },
  {
   "cell_type": "code",
   "execution_count": 1280,
   "id": "96d4e8cb-46b1-4297-844c-ebd467316e5a",
   "metadata": {},
   "outputs": [],
   "source": [
    "#Process gradient descent algorithm\n",
    "def gradient_descent(x, y, theta, alpha, iterations):\n",
    "    cost_history = np.zeros(iterations)\n",
    "\n",
    "    for i in range(iterations):\n",
    "       \n",
    "        predictions = x.dot(theta)\n",
    "        errors = np.subtract(predictions, y)\n",
    "        sum_delta = (alpha / m) * x.transpose().dot(errors)\n",
    "        theta = theta - sum_delta\n",
    "\n",
    "        # Computes value of cost function J for each iteration\n",
    "        sqr_error = np.square(errors)\n",
    "        cost_history[i] = 1 / (2 * m) * np.sum(sqr_error)\n",
    "\n",
    "    return theta, cost_history\n",
    "\n"
   ]
  },
  {
   "cell_type": "code",
   "execution_count": 1281,
   "id": "273e5bf6-62c1-4668-bd3d-3ee449a29013",
   "metadata": {},
   "outputs": [],
   "source": [
    "def gradient_descent_reg(x, y, theta, alpha, iterations, reg_param):\n",
    "    cost_history = np.zeros(iterations)\n",
    "\n",
    "    for i in range(iterations):\n",
    "        predictions = x.dot(theta)\n",
    "        errors = np.subtract(predictions, y)\n",
    "        sum_delta = (alpha / m) * (x.transpose().dot(errors) + reg_param * theta)\n",
    "        theta = theta - sum_delta\n",
    "        sqr_error = np.square(errors)\n",
    "        cost_history[i] = 1 / (2 * m) * (np.sum(sqr_error) + reg_param *\n",
    "                                         np.sum(np.square(theta)))\n",
    "\n",
    "    return theta, cost_history\n"
   ]
  },
  {
   "cell_type": "code",
   "execution_count": 1282,
   "id": "d838144f-14ce-4cc5-99f2-c2eea8f31376",
   "metadata": {},
   "outputs": [],
   "source": [
    "# Formats training set\n",
    "\n",
    "num_vars = ['price', 'area', 'bedrooms', 'bathrooms', 'stories', 'parking']\n",
    "m = len(df_train)\n",
    "y = df_train.values[:, 0]\n",
    "x = df_train[num_vars].values[:, 2:6] \n",
    "x = np.hstack((np.ones((m, 1)), x.reshape(m, 4)))"
   ]
  },
  {
   "cell_type": "code",
   "execution_count": 1283,
   "id": "a263443b-4ec8-4509-ae82-c2b921ea7419",
   "metadata": {},
   "outputs": [],
   "source": [
    "# Retrains ML model with x2, x3, x4, x10 (x1 not usable)\n",
    "theta = np.zeros(5)\n",
    "theta, train_cost = gradient_descent(x, y, theta, alpha, iterations)\n"
   ]
  },
  {
   "cell_type": "code",
   "execution_count": 1284,
   "id": "4b85fade-6b96-499a-9df9-098af8c6dfa6",
   "metadata": {},
   "outputs": [],
   "source": [
    "# Formats test set\n",
    "m = len(df_test)\n",
    "y_0 = df_test.values[:, 0]\n",
    "x_0 = df_test[num_vars].values[:, 2:6]\n",
    "x_0 = np.hstack((np.ones((m, 1)), x_0.reshape(m, 4)))"
   ]
  },
  {
   "cell_type": "code",
   "execution_count": 1285,
   "id": "bc2ddee9-ceff-432a-848a-b36f29874379",
   "metadata": {},
   "outputs": [
    {
     "name": "stdout",
     "output_type": "stream",
     "text": [
      "Final value of theta = [870489.6391051807 305563.8189222792 1203712.2817691953 561587.6336152942\n",
      " 602856.1894135593]\n"
     ]
    }
   ],
   "source": [
    "# Computes test cost\n",
    "Validationcost = gradient_descent(x_0, y_0, theta, alpha, iterations)[1]\n",
    "print('Final value of theta =', theta)"
   ]
  },
  {
   "cell_type": "code",
   "execution_count": 1286,
   "id": "8b5e1062-78d5-49ae-b13c-411c329c561a",
   "metadata": {},
   "outputs": [
    {
     "data": {
      "text/plain": [
       "<matplotlib.legend.Legend at 0x25ae7a32910>"
      ]
     },
     "execution_count": 1286,
     "metadata": {},
     "output_type": "execute_result"
    },
    {
     "data": {
      "image/png": "[encoded data removed]",
      "text/plain": [
       "<Figure size 720x432 with 1 Axes>"
      ]
     },
     "metadata": {
      "needs_background": "light"
     },
     "output_type": "display_data"
    }
   ],
   "source": [
    "# Plots training set\n",
    "plt.figure(1)\n",
    "plt.plot(np.linspace(1, iterations, iterations), train_cost, color='red',\n",
    "         label='Training cost')\n",
    "plt.plot(np.linspace(1, iterations, iterations), Validationcost, color='green',\n",
    "         label='Validation cost')\n",
    "plt.rcParams['figure.figsize'] = (10, 6)\n",
    "plt.grid()\n",
    "plt.xlabel('Iterations')\n",
    "plt.ylabel('Cost')\n",
    "plt.title('Training and test cost history for variables repespectively')\n",
    "plt.legend()"
   ]
  },
  {
   "cell_type": "code",
   "execution_count": 1287,
   "id": "331d6c64-79f1-4322-8d6f-fc53f6b3ae81",
   "metadata": {},
   "outputs": [],
   "source": [
    "\n",
    "m = len(df_train)\n",
    "x = df_train.values[:, 2:12]\n",
    "x = np.hstack((np.ones((m, 1)), x.reshape(m, 10)))"
   ]
  },
  {
   "cell_type": "code",
   "execution_count": 1288,
   "id": "62759956-5e2a-4f5b-9765-10d6c05966cb",
   "metadata": {},
   "outputs": [],
   "source": [
    "#This function retrains the entire model\n",
    "theta = np.zeros(11)\n",
    "theta, train_cost = gradient_descent(x, y, theta, alpha, iterations)"
   ]
  },
  {
   "cell_type": "code",
   "execution_count": 1289,
   "id": "f0c8ae5a-f72f-424b-a18c-e7c1eeea8db6",
   "metadata": {},
   "outputs": [],
   "source": [
    "# Formats test set\n",
    "m = len(df_test)\n",
    "x_0 = df_test.values[:, 2:12]\n",
    "x_0 = np.hstack((np.ones((m, 1)), x_0.reshape(m, 10)))"
   ]
  },
  {
   "cell_type": "code",
   "execution_count": 1290,
   "id": "baee5eea-c705-4e34-8570-1f6f322a9573",
   "metadata": {},
   "outputs": [
    {
     "name": "stdout",
     "output_type": "stream",
     "text": [
      "theta = [437633.94479189994 181036.77636442526 988613.7604707936 410311.3402010583\n",
      " 756461.4261511914 538943.5229735046 265720.24743397126 1180856.4100370929\n",
      " 1088780.0307373086 413179.7633270081 978459.2987293216]\n"
     ]
    }
   ],
   "source": [
    "# Computes test cost\n",
    "Validationcost = gradient_descent(x_0, y_0, theta, alpha, iterations)[1]\n",
    "print('theta =', theta)"
   ]
  },
  {
   "cell_type": "code",
   "execution_count": 1291,
   "id": "1f3474e0-addc-493f-84d3-712062b0e89d",
   "metadata": {},
   "outputs": [
    {
     "data": {
      "text/plain": [
       "<matplotlib.legend.Legend at 0x25ae7ac66a0>"
      ]
     },
     "execution_count": 1291,
     "metadata": {},
     "output_type": "execute_result"
    },
    {
     "data": {
      "image/png": "[encoded data removed]",
      "text/plain": [
       "<Figure size 720x432 with 1 Axes>"
      ]
     },
     "metadata": {
      "needs_background": "light"
     },
     "output_type": "display_data"
    }
   ],
   "source": [
    "# Plots training test for all variables\n",
    "plt.figure(2)\n",
    "plt.plot(np.linspace(1, iterations, iterations), train_cost, color='red',\n",
    "         label='Training cost')\n",
    "plt.plot(np.linspace(1, iterations, iterations), test_cost, color='green',\n",
    "         label='Validation cost')\n",
    "plt.rcParams['figure.figsize'] = (10, 8)\n",
    "plt.grid()\n",
    "plt.xlabel('Iterations')\n",
    "plt.ylabel('Cost')\n",
    "plt.title('Convergence of gradient descent')\n",
    "plt.legend()"
   ]
  },
  {
   "cell_type": "code",
   "execution_count": 1292,
   "id": "50cfd11f-a35c-451b-8ed2-e4da45b5a735",
   "metadata": {},
   "outputs": [],
   "source": [
    "# This funtionDefines minimum and maximum \n",
    "scaler1 = MinMaxScaler()\n",
    "df_train_norm = df_train[num_vars].values[:, :6]\n",
    "df_test_norm = df_test[num_vars].values[:, :6]\n",
    "df_train_norm = scaler1.fit_transform(df_train_norm)\n",
    "df_test_norm = scaler1.fit_transform(df_test_norm)"
   ]
  },
  {
   "cell_type": "code",
   "execution_count": 1293,
   "id": "c0fbb344-2307-4daa-9f2b-2db6a7319886",
   "metadata": {},
   "outputs": [],
   "source": [
    "# Formats training set\n",
    "m = len(df_train_norm)\n",
    "y = df_train_norm[:, 0]\n",
    "x = df_train_norm[:, 1:6]\n",
    "x = np.hstack((np.ones((m, 1)), x.reshape(m, 5)))"
   ]
  },
  {
   "cell_type": "code",
   "execution_count": 1294,
   "id": "779c6210-573a-4bbe-aa93-ffeef695e25f",
   "metadata": {},
   "outputs": [],
   "source": [
    "# Retrains ML model with x1, x2, x3, x4, x10\n",
    "theta = np.zeros(6)\n",
    "theta, train_cost = gradient_descent(x, y, theta, alpha, iterations)"
   ]
  },
  {
   "cell_type": "code",
   "execution_count": 1295,
   "id": "236d6e44-25c1-4c88-b92f-68768d915d19",
   "metadata": {},
   "outputs": [],
   "source": [
    "# Formats test set\n",
    "m = len(df_test_norm)\n",
    "y_0 = df_test_norm[:, 0]\n",
    "x_0 = df_test_norm[:, 1:6]\n",
    "x_0 = np.hstack((np.ones((m, 1)), x_0.reshape(m, 5)))"
   ]
  },
  {
   "cell_type": "code",
   "execution_count": 1296,
   "id": "c7ffc641-3198-4b48-a08a-d27f76564699",
   "metadata": {},
   "outputs": [
    {
     "name": "stdout",
     "output_type": "stream",
     "text": [
      "theta = [0.04160884 0.36839377 0.09341937 0.20038078 0.13404017 0.09696011]\n"
     ]
    }
   ],
   "source": [
    "# Computes test cost\n",
    "Validationcost = gradient_descent(x_0, y_0, theta, alpha, iterations)[1]\n",
    "print('theta =', theta)\n"
   ]
  },
  {
   "cell_type": "code",
   "execution_count": 1333,
   "id": "eaac535f-4464-4600-b844-4422ee1f088c",
   "metadata": {},
   "outputs": [
    {
     "data": {
      "text/plain": [
       "<matplotlib.legend.Legend at 0x25ae4445460>"
      ]
     },
     "execution_count": 1333,
     "metadata": {},
     "output_type": "execute_result"
    },
    {
     "data": {
      "image/png": "[encoded data removed]",
      "text/plain": [
       "<Figure size 720x432 with 1 Axes>"
      ]
     },
     "metadata": {
      "needs_background": "light"
     },
     "output_type": "display_data"
    }
   ],
   "source": [
    "# Plots training and test cost history for x1, x2, x3, x4, x10\n",
    "plt.figure(3)\n",
    "plt.plot(np.linspace(1, iterations, iterations), train_cost, color='red',\n",
    "         label='Training cost')\n",
    "plt.plot(np.linspace(1, iterations, iterations), Validationcost, color='green',\n",
    "         label='Validation cost')\n",
    "plt.rcParams['figure.figsize'] = (10, 8)\n",
    "plt.grid()\n",
    "plt.xlabel('Iterations')\n",
    "plt.ylabel('Cost')\n",
    "plt.title('Gradient descent with input normalization')\n",
    "plt.legend()"
   ]
  },
  {
   "cell_type": "code",
   "execution_count": 1298,
   "id": "2e9ba4a2-84f6-402c-9730-58936c8c9f36",
   "metadata": {},
   "outputs": [],
   "source": [
    "# Defines standardization scaler\n",
    "scaler2 = StandardScaler()\n",
    "df_train_stand = df_train[num_vars].values[:, :6]\n",
    "df_test_stand = df_test[num_vars].values[:, :6]\n",
    "df_train_stand = scaler2.fit_transform(df_train_stand)\n",
    "df_test_stand = scaler2.fit_transform(df_test_stand)"
   ]
  },
  {
   "cell_type": "code",
   "execution_count": 1299,
   "id": "bd080429-4c80-4c35-b29f-261f84da4f50",
   "metadata": {},
   "outputs": [],
   "source": [
    "# Formats training set\n",
    "m = len(df_train_stand)\n",
    "y = df_train_stand[:, 0]\n",
    "x = df_train_stand[:, 1:6]\n",
    "x = np.hstack((np.ones((m, 1)), x.reshape(m, 5)))"
   ]
  },
  {
   "cell_type": "code",
   "execution_count": 1300,
   "id": "a5dccc2a-b7fb-4dfc-8d55-6e2cf0607807",
   "metadata": {},
   "outputs": [],
   "source": [
    "# Retrains ML model with x1, x2, x3, x4, x10\n",
    "theta = np.zeros(6)\n",
    "theta, train_cost = gradient_descent(x, y, theta, alpha, iterations)"
   ]
  },
  {
   "cell_type": "code",
   "execution_count": 1301,
   "id": "40720f6b-48fc-42de-b1ec-7f6e433735fd",
   "metadata": {},
   "outputs": [],
   "source": [
    "# Formats test set\n",
    "m = len(df_test_stand)\n",
    "y_0 = df_test_stand[:, 0]\n",
    "x_0 = df_test_stand[:, 1:6]\n",
    "x_0 = np.hstack((np.ones((m, 1)), x_0.reshape(m, 5)))\n"
   ]
  },
  {
   "cell_type": "code",
   "execution_count": 1302,
   "id": "95083853-f453-4feb-924b-12ae268ea79e",
   "metadata": {},
   "outputs": [
    {
     "name": "stdout",
     "output_type": "stream",
     "text": [
      " theta = [1.79561819e-16 3.83653304e-01 1.04343457e-01 2.98541735e-01\n",
      " 2.34542828e-01 1.49757135e-01]\n"
     ]
    }
   ],
   "source": [
    "# Computes test cost\n",
    "Validationcost = gradient_descent(x_0, y_0, theta, alpha, iterations)[1]\n",
    "print(' theta =', theta)"
   ]
  },
  {
   "cell_type": "code",
   "execution_count": 1332,
   "id": "b422dc8d-0085-4a8d-a9a5-eb6199f4feb2",
   "metadata": {},
   "outputs": [
    {
     "data": {
      "text/plain": [
       "<matplotlib.legend.Legend at 0x25ae3d52790>"
      ]
     },
     "execution_count": 1332,
     "metadata": {},
     "output_type": "execute_result"
    },
    {
     "data": {
      "image/png": "[encoded data removed]",
      "text/plain": [
       "<Figure size 720x432 with 1 Axes>"
      ]
     },
     "metadata": {
      "needs_background": "light"
     },
     "output_type": "display_data"
    }
   ],
   "source": [
    "# Plots training and test cost history for x1, x2, x3, x4, x10\n",
    "plt.figure(4)\n",
    "plt.plot(np.linspace(1, iterations, iterations), train_cost, color='red',\n",
    "         label='Training cost')\n",
    "plt.plot(np.linspace(1, iterations, iterations), Validationcost, color='green',\n",
    "         label='Validation cost')\n",
    "plt.rcParams['figure.figsize'] = (10, 8)\n",
    "plt.grid()\n",
    "plt.xlabel('Iterations')\n",
    "plt.ylabel('Cost')\n",
    "plt.title('Training test for all variables')\n",
    "plt.legend()\n"
   ]
  },
  {
   "cell_type": "code",
   "execution_count": 1304,
   "id": "d91c9492-6e9f-4cc9-bac0-b5a5d2f313a2",
   "metadata": {},
   "outputs": [],
   "source": [
    "\n",
    "# Defines maximum and minimum scalar\n",
    "df_train_norm = df_train.values[:, :12]\n",
    "df_test_norm = df_test.values[:, :12]\n",
    "df_train_norm = scaler1.fit_transform(df_train_norm)\n",
    "df_test_norm = scaler1.fit_transform(df_test_norm)\n"
   ]
  },
  {
   "cell_type": "code",
   "execution_count": 1305,
   "id": "cca49d8f-ebc7-447b-83b5-ed83459eb9c8",
   "metadata": {},
   "outputs": [],
   "source": [
    "#Trainset format\n",
    "m = len(df_train_norm)\n",
    "y = df_train_norm[:, 0]\n",
    "x = df_train_norm[:, 1:12]\n",
    "x = np.hstack((np.ones((m, 1)), x.reshape(m, 11)))"
   ]
  },
  {
   "cell_type": "code",
   "execution_count": 1306,
   "id": "a127f78c-07a6-4322-9838-b925988caef1",
   "metadata": {},
   "outputs": [],
   "source": [
    "# Trains the machine learning model\n",
    "theta = np.zeros(12)\n",
    "theta, train_cost = gradient_descent(x, y, theta, alpha, iterations)\n"
   ]
  },
  {
   "cell_type": "code",
   "execution_count": 1307,
   "id": "6855bc2a-9283-4b82-8b1e-cdff933e2d16",
   "metadata": {},
   "outputs": [],
   "source": [
    "# Formats test set\n",
    "m = len(df_test_norm)\n",
    "y_0 = df_test_norm[:, 0]\n",
    "x_0 = df_test_norm[:, 1:12]\n",
    "x_0 = np.hstack((np.ones((m, 1)), x_0.reshape(m, 11)))"
   ]
  },
  {
   "cell_type": "code",
   "execution_count": 1308,
   "id": "1af260bb-1b20-4f65-97e8-71aeedc91630",
   "metadata": {},
   "outputs": [
    {
     "name": "stdout",
     "output_type": "stream",
     "text": [
      "Final value of theta = [-0.00030068  0.24463399  0.0558249   0.166414    0.10983887  0.04724366\n",
      "  0.03795568  0.02992177  0.10666471  0.08271132  0.07520951  0.06660711]\n"
     ]
    }
   ],
   "source": [
    "# Computes test cost\n",
    "Validationcost = gradient_descent(x_0, y_0, theta, alpha, iterations)[1]\n",
    "print('Final value of theta =', theta)\n"
   ]
  },
  {
   "cell_type": "code",
   "execution_count": 1331,
   "id": "733b86a0-cf70-4b38-9192-1e563972657e",
   "metadata": {},
   "outputs": [
    {
     "data": {
      "text/plain": [
       "<matplotlib.legend.Legend at 0x25add5f6a60>"
      ]
     },
     "execution_count": 1331,
     "metadata": {},
     "output_type": "execute_result"
    },
    {
     "data": {
      "image/png": "[encoded data removed]",
      "text/plain": [
       "<Figure size 720x432 with 1 Axes>"
      ]
     },
     "metadata": {
      "needs_background": "light"
     },
     "output_type": "display_data"
    }
   ],
   "source": [
    "\n",
    "plt.figure(5)\n",
    "plt.plot(np.linspace(1, iterations, iterations), train_cost, color='red',\n",
    "         label='Training cost')\n",
    "plt.plot(np.linspace(1, iterations, iterations), Validationcost, color='green',\n",
    "         label='Test cost')\n",
    "plt.rcParams['figure.figsize'] = (10, 8)\n",
    "plt.grid()\n",
    "plt.xlabel('Iterations')\n",
    "plt.ylabel('Cost')\n",
    "plt.title('Varibles implemented with input normalization'\n",
    "          ' variables')\n",
    "plt.legend()"
   ]
  },
  {
   "cell_type": "code",
   "execution_count": 1310,
   "id": "fe4a37b9-87e1-4fc5-98dd-683b06efdae4",
   "metadata": {},
   "outputs": [],
   "source": [
    "# Defines standardization scaler\n",
    "df_train_stand = df_train.values[:, :12]\n",
    "df_test_stand = df_test.values[:, :12]\n",
    "df_train_stand = scaler2.fit_transform(df_train_stand)\n",
    "df_test_stand = scaler2.fit_transform(df_test_stand)"
   ]
  },
  {
   "cell_type": "code",
   "execution_count": 1311,
   "id": "1648035e-ffff-45c6-8003-4e6b46f9f9c0",
   "metadata": {},
   "outputs": [],
   "source": [
    "# Formats training set\n",
    "m = len(df_train_stand)\n",
    "y = df_train_stand[:, 0]\n",
    "x = df_train_stand[:, 1:12]\n",
    "x = np.hstack((np.ones((m, 1)), x.reshape(m, 11)))"
   ]
  },
  {
   "cell_type": "code",
   "execution_count": 1312,
   "id": "181eea5c-f3a6-4aa8-a029-714736e3d33e",
   "metadata": {},
   "outputs": [],
   "source": [
    "\n",
    "theta = np.zeros(12)\n",
    "theta, train_cost = gradient_descent(x, y, theta, alpha, iterations)\n"
   ]
  },
  {
   "cell_type": "code",
   "execution_count": 1313,
   "id": "8baa7e77-ec5d-452a-a945-c834fc82a392",
   "metadata": {},
   "outputs": [],
   "source": [
    "# Formats test set\n",
    "m = len(df_test_stand)\n",
    "y_0 = df_test_stand[:, 0]\n",
    "x_0 = df_test_stand[:, 1:12]\n",
    "x_0 = np.hstack((np.ones((m, 1)), x_0.reshape(m, 11)))\n"
   ]
  },
  {
   "cell_type": "code",
   "execution_count": 1314,
   "id": "a3c668c1-9396-4753-8e82-ba8647b43c00",
   "metadata": {},
   "outputs": [
    {
     "name": "stdout",
     "output_type": "stream",
     "text": [
      "theta = [1.52738714e-16 2.69430270e-01 5.88474875e-02 2.48153203e-01\n",
      " 1.99265962e-01 9.20205597e-02 8.25960172e-02 9.41683856e-02\n",
      " 1.40206929e-01 2.32616682e-01 1.16157210e-01 1.62960286e-01]\n"
     ]
    }
   ],
   "source": [
    "\n",
    "Validationcost = gradient_descent(x_0, y_0, theta, alpha, iterations)[1]\n",
    "print('theta =', theta)\n"
   ]
  },
  {
   "cell_type": "code",
   "execution_count": 1315,
   "id": "5bdf9cb2-e170-40cb-b138-16a6b4afd315",
   "metadata": {},
   "outputs": [
    {
     "data": {
      "text/plain": [
       "<matplotlib.legend.Legend at 0x25ae7e10e20>"
      ]
     },
     "execution_count": 1315,
     "metadata": {},
     "output_type": "execute_result"
    },
    {
     "data": {
      "image/png": "[encoded data removed]",
      "text/plain": [
       "<Figure size 720x432 with 1 Axes>"
      ]
     },
     "metadata": {
      "needs_background": "light"
     },
     "output_type": "display_data"
    }
   ],
   "source": [
    "\n",
    "plt.figure(6)\n",
    "plt.plot(np.linspace(1, iterations, iterations), train_cost, color='red',\n",
    "         label='Training cost')\n",
    "plt.plot(np.linspace(1, iterations, iterations), test_cost, color='green',\n",
    "         label='Test cost')\n",
    "plt.rcParams['figure.figsize'] = (10, 8)\n",
    "plt.grid()\n",
    "plt.xlabel('Iterations')\n",
    "plt.ylabel('Cost')\n",
    "plt.title('Training and test cost history with input standardization for all input'\n",
    "          ' variables')\n",
    "plt.legend()"
   ]
  },
  {
   "cell_type": "code",
   "execution_count": 1316,
   "id": "3f801ba6-5bb4-453c-9940-754eae932fcb",
   "metadata": {},
   "outputs": [],
   "source": [
    "\n",
    "reg_param = 0.01"
   ]
  },
  {
   "cell_type": "code",
   "execution_count": 1317,
   "id": "7b065957-4476-4972-b4f6-7897b78115b4",
   "metadata": {},
   "outputs": [],
   "source": [
    "#Minimum and maximum scalar applied\n",
    "df_train_norm = df_train[num_vars].values[:, :6]\n",
    "df_test_norm = df_test[num_vars].values[:, :6]\n",
    "df_train_norm = scaler1.fit_transform(df_train_norm)\n",
    "df_test_norm = scaler1.fit_transform(df_test_norm)"
   ]
  },
  {
   "cell_type": "code",
   "execution_count": 1318,
   "id": "d12f8d1c-5c94-4714-b990-87a266362732",
   "metadata": {},
   "outputs": [],
   "source": [
    "# Formats training set\n",
    "m = len(df_train_norm)\n",
    "y = df_train_norm[:, 0]\n",
    "x = df_train_norm[:, 1:6]\n",
    "x = np.hstack((np.ones((m, 1)), x.reshape(m, 5)))\n"
   ]
  },
  {
   "cell_type": "code",
   "execution_count": 1319,
   "id": "2b562bde-8922-4dc7-bf20-12cdf4af3362",
   "metadata": {},
   "outputs": [],
   "source": [
    "#Funtion is used to retrain reguraized models\n",
    "theta = np.zeros(6)\n",
    "theta, train_cost = gradient_descent_reg(x, y, theta, alpha, iterations, reg_param)"
   ]
  },
  {
   "cell_type": "code",
   "execution_count": 1320,
   "id": "bfbaf7d5-8144-4dfe-9c73-e0464849fa4b",
   "metadata": {},
   "outputs": [],
   "source": [
    "# Formats test set\n",
    "m = len(df_test_norm)\n",
    "y_0 = df_test_norm[:, 0]\n",
    "x_0 = df_test_norm[:, 1:6]\n",
    "x_0 = np.hstack((np.ones((m, 1)), x_0.reshape(m, 5)))\n"
   ]
  },
  {
   "cell_type": "code",
   "execution_count": 1321,
   "id": "83a16ed5-0e40-493c-b167-eb9e31066227",
   "metadata": {},
   "outputs": [
    {
     "name": "stdout",
     "output_type": "stream",
     "text": [
      " theta = [0.04168137 0.36808029 0.0934267  0.20031399 0.13403137 0.09699192]\n"
     ]
    }
   ],
   "source": [
    "\n",
    "Validationcost = gradient_descent(x_0, y_0, theta, alpha, iterations)[1]\n",
    "print(' theta =', theta)"
   ]
  },
  {
   "cell_type": "code",
   "execution_count": 1330,
   "id": "3bf22e43-6a44-4226-8794-22ff71f0a832",
   "metadata": {},
   "outputs": [
    {
     "data": {
      "text/plain": [
       "<matplotlib.legend.Legend at 0x25ae41388e0>"
      ]
     },
     "execution_count": 1330,
     "metadata": {},
     "output_type": "execute_result"
    },
    {
     "data": {
      "image/png": "[encoded data removed]",
      "text/plain": [
       "<Figure size 720x432 with 1 Axes>"
      ]
     },
     "metadata": {
      "needs_background": "light"
     },
     "output_type": "display_data"
    }
   ],
   "source": [
    "\n",
    "plt.figure(7)\n",
    "plt.plot(np.linspace(1, iterations, iterations), train_cost, color='red',\n",
    "         label='Training cost')\n",
    "plt.plot(np.linspace(1, iterations, iterations), Validationcost, color='green',\n",
    "         label='Test cost')\n",
    "plt.rcParams['figure.figsize'] = (10, 6)\n",
    "plt.grid()\n",
    "plt.xlabel('Iterations')\n",
    "plt.ylabel('Cost')\n",
    "plt.title('Training with validation cost input normalization and regularization')\n",
    "plt.legend()"
   ]
  },
  {
   "cell_type": "code",
   "execution_count": 1323,
   "id": "73b6e8dd-47f1-4791-bfcf-9f2f73cb5e9c",
   "metadata": {},
   "outputs": [],
   "source": [
    "\n",
    "#Functtion utilizes the minimum and maximum scalar\n",
    "df_train_norm = df_train.values[:, :12]\n",
    "df_test_norm = df_test.values[:, :12]\n",
    "df_train_norm = scaler1.fit_transform(df_train_norm)\n",
    "df_test_norm = scaler1.fit_transform(df_test_norm)"
   ]
  },
  {
   "cell_type": "code",
   "execution_count": 1324,
   "id": "623d73b5-1131-440e-9619-0c69a0705beb",
   "metadata": {},
   "outputs": [],
   "source": [
    "#Test set data format \n",
    "m = len(df_train_norm)\n",
    "y = df_train_norm[:, 0]\n",
    "x = df_train_norm[:, 1:12]\n",
    "x = np.hstack((np.ones((m, 1)), x.reshape(m, 11)))"
   ]
  },
  {
   "cell_type": "code",
   "execution_count": 1325,
   "id": "49c32688-ec67-48b4-9408-cfaaec68c40f",
   "metadata": {},
   "outputs": [],
   "source": [
    "#Retrains all variables\n",
    "theta = np.zeros(12)\n",
    "theta, train_cost = gradient_descent_reg(x, y, theta, alpha, iterations, reg_param)\n"
   ]
  },
  {
   "cell_type": "code",
   "execution_count": 1326,
   "id": "9003641b-87ca-40ef-b792-639d89bd8e4e",
   "metadata": {},
   "outputs": [],
   "source": [
    "#Test set data format\n",
    "m = len(df_test_norm)\n",
    "y_0 = df_test_norm[:, 0]\n",
    "x_0 = df_test_norm[:, 1:12]\n",
    "x_0 = np.hstack((np.ones((m, 1)), x_0.reshape(m, 11)))"
   ]
  },
  {
   "cell_type": "code",
   "execution_count": 1327,
   "id": "c2d2fd48-3ea5-48b5-b953-cc07b46bb13e",
   "metadata": {},
   "outputs": [
    {
     "name": "stdout",
     "output_type": "stream",
     "text": [
      "theta = [-0.00025713  0.24441419  0.05583525  0.166358    0.10982188  0.04725399\n",
      "  0.03796283  0.02991754  0.1066072   0.08271691  0.07522892  0.06661762]\n"
     ]
    }
   ],
   "source": [
    "# Computes test cost\n",
    "Validationcost = gradient_descent(x_0, y_0, theta, alpha, iterations)[1]\n",
    "print('theta =', theta)"
   ]
  },
  {
   "cell_type": "code",
   "execution_count": 1329,
   "id": "1a456c0d-0ede-4915-a86a-bf659ec35cbc",
   "metadata": {},
   "outputs": [
    {
     "data": {
      "image/png": "[encoded data removed]",
      "text/plain": [
       "<Figure size 720x432 with 1 Axes>"
      ]
     },
     "metadata": {
      "needs_background": "light"
     },
     "output_type": "display_data"
    }
   ],
   "source": [
    "\n",
    "plt.figure(8)\n",
    "plt.plot(np.linspace(1, iterations, iterations), train_cost, color='red',\n",
    "         label='Training cost')\n",
    "plt.plot(np.linspace(1, iterations, iterations), Validationcost, color='green',\n",
    "         label='Validation cost')\n",
    "plt.rcParams['figure.figsize'] = (10, 6)\n",
    "plt.grid()\n",
    "plt.xlabel('Iterations count')\n",
    "plt.ylabel('Cost')\n",
    "plt.title('Training test implemented for all variables using normalization and regularization'\n",
    "          ' f')\n",
    "plt.legend()\n",
    "plt.show()"
   ]
  },
  {
   "cell_type": "code",
   "execution_count": null,
   "id": "894f995d-4256-4b18-a51f-55da9cdf0b47",
   "metadata": {},
   "outputs": [],
   "source": []
  },
  {
   "cell_type": "code",
   "execution_count": null,
   "id": "8732142b-3c15-4e87-acd8-3c4085b3c453",
   "metadata": {},
   "outputs": [],
   "source": []
  },
  {
   "cell_type": "code",
   "execution_count": null,
   "id": "70292aa3-4add-41ed-9918-7b0bca135a63",
   "metadata": {},
   "outputs": [],
   "source": []
  },
  {
   "cell_type": "code",
   "execution_count": null,
   "id": "3e7cf348-9e2c-4bce-ad7e-22cc7eed7eea",
   "metadata": {},
   "outputs": [],
   "source": []
  }
 ],
 "metadata": {
  "kernelspec": {
   "display_name": "Python 3",
   "language": "python",
   "name": "python3"
  },
  "language_info": {
   "codemirror_mode": {
    "name": "ipython",
    "version": 3
   },
   "file_extension": ".py",
   "mimetype": "text/x-python",
   "name": "python",
   "nbconvert_exporter": "python",
   "pygments_lexer": "ipython3",
   "version": "3.8.8"
  }
 },
 "nbformat": 4,
 "nbformat_minor": 5
}
